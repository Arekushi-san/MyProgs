{
 "cells": [
  {
   "cell_type": "markdown",
   "id": "4d981f5a",
   "metadata": {},
   "source": [
    "### Exercice - affichage nb Décroissant/croissant"
   ]
  },
  {
   "cell_type": "code",
   "execution_count": 83,
   "id": "633e9d80",
   "metadata": {},
   "outputs": [
    {
     "name": "stdout",
     "output_type": "stream",
     "text": [
      "affichage décroissant : \n",
      "4\n",
      "3\n",
      "2\n",
      "1\n",
      "0\n",
      "affichage croissant : \n",
      "0\n",
      "1\n",
      "2\n",
      "3\n",
      "4\n"
     ]
    }
   ],
   "source": [
    "\"\"\"\n",
    "Alexis VENET, CPE Lyon, 4ETI\n",
    "9/04/25\n",
    "\"\"\"\n",
    "\n",
    "def rec1D(val):\n",
    "    if val<=0:\n",
    "        return 0\n",
    "    print(val)\n",
    "    return rec1D(val-1)\n",
    "def rec1C(val,val2):\n",
    "    if val>=val2:\n",
    "        return val2\n",
    "    print(val)\n",
    "    return rec1C(val+1,val2)\n",
    "print(\"affichage décroissant : \")\n",
    "print(rec1D(4))\n",
    "print(\"affichage croissant : \")\n",
    "print(rec1C(0,4))\n",
    "\n"
   ]
  },
  {
   "cell_type": "markdown",
   "id": "d556ca32",
   "metadata": {},
   "source": [
    "### exercice - fibonacci"
   ]
  },
  {
   "cell_type": "code",
   "execution_count": 84,
   "id": "77acaae4",
   "metadata": {},
   "outputs": [
    {
     "name": "stdout",
     "output_type": "stream",
     "text": [
      "F5 = 8\n",
      "F10 = 89\n",
      "F20 = 10946\n",
      "F30 = 1346269\n",
      "F40 = 165580141\n",
      "F400 = 284812298108489611757988937681460995615380088782304890986477195645969271404032323901\n",
      "F1000 = 70330367711422815821835254877183549770181269836358732742604905087154537118196933579742249494562611733487750449241765991088186363265450223647106012053374121273867339111198139373125598767690091902245245323403501\n",
      "u(10) : 89\n"
     ]
    }
   ],
   "source": [
    "import time\n",
    "\n",
    "def fibonacci1(val_1, val_2, n0, n):\n",
    "    val = val_1 + val_2\n",
    "    # print(\"v\",n0,\" = \",val)\n",
    "    if n0 >= n:\n",
    "        return val\n",
    "    return fibonacci1(val, val_1, n0 + 1, n)\n",
    "\n",
    "def test_fibonacci_times():\n",
    "    v_1 = 2\n",
    "    v_2 = 1\n",
    "    for n in [5, 10, 20, 30, 40,400,1000]:\n",
    "        result = fibonacci1(v_1, v_2, 3, n)\n",
    "        print(f\"F{n} = {result}\")\n",
    "\n",
    "test_fibonacci_times()\n",
    "\n",
    "\n",
    "def fibonacci2(n, memo={}):\n",
    "    if n in memo:\n",
    "        return memo[n]\n",
    "    if n == 1:\n",
    "        return 1\n",
    "    if n == 2:\n",
    "        return 2\n",
    "    memo[n] = fibonacci2(n - 1, memo) + fibonacci2(n - 2, memo)\n",
    "    return memo[n]\n",
    "N=10\n",
    "print(f\"u({N}) : {fibonacci2(N)}\")\n",
    "\n"
   ]
  },
  {
   "cell_type": "markdown",
   "id": "0b390102",
   "metadata": {},
   "source": [
    "#### fibonacci - récursion terminale"
   ]
  },
  {
   "cell_type": "code",
   "execution_count": 85,
   "id": "6b283c7e",
   "metadata": {},
   "outputs": [
    {
     "name": "stdout",
     "output_type": "stream",
     "text": [
      "F1 = 3, u_2 = 1, u_1 = 2\n",
      "F2 = 5, u_2 = 2, u_1 = 3\n",
      "F3 = 8, u_2 = 3, u_1 = 5\n",
      "F4 = 13, u_2 = 5, u_1 = 8\n",
      "F5 = 21, u_2 = 8, u_1 = 13\n",
      "F6 = 34, u_2 = 13, u_1 = 21\n",
      "u(6) = 21\n"
     ]
    }
   ],
   "source": [
    "def fibonacci3(u_2, u_1, k, n):\n",
    "    print(f\"F{k} = {u_2 + u_1}, u_2 = {u_2}, u_1 = {u_1}\")\n",
    "    if k == n:\n",
    "        return u_1\n",
    "    return fibonacci3(u_1, u_2 + u_1, k + 1, n)\n",
    "N=6\n",
    "print(f\"u({N}) = {fibonacci3(1, 2, 1, 6)}\")\n"
   ]
  },
  {
   "cell_type": "markdown",
   "id": "7f57ba8b",
   "metadata": {},
   "source": [
    "### exercice - plus grand element, avec methode DIVISER POUR REGNER"
   ]
  },
  {
   "cell_type": "code",
   "execution_count": 86,
   "id": "1b900f8d",
   "metadata": {},
   "outputs": [
    {
     "name": "stdout",
     "output_type": "stream",
     "text": [
      "valeur max : 10\n"
     ]
    }
   ],
   "source": [
    "def maxliste(liste):\n",
    "    if len(liste) == 1:\n",
    "        return liste[0]\n",
    "    return max(maxliste(liste[:len(liste)//2]),maxliste(liste[len(liste)//2:]))\n",
    "print(f\"valeur max : {maxliste([1,2,10,4,5])}\")\n",
    "\n"
   ]
  },
  {
   "cell_type": "markdown",
   "id": "f27fa4d7",
   "metadata": {},
   "source": [
    "### Exercice - Tours de Hanoï\n"
   ]
  },
  {
   "cell_type": "code",
   "execution_count": 87,
   "id": "37bc9b32",
   "metadata": {},
   "outputs": [
    {
     "name": "stdout",
     "output_type": "stream",
     "text": [
      "Déplacer un disque du pilier 1 au 3\n",
      "Déplacer un disque du pilier 1 au 2\n",
      "Déplacer un disque du pilier 3 au 2\n",
      "Déplacer un disque du pilier 1 au 3\n",
      "Déplacer un disque du pilier 2 au 1\n",
      "Déplacer un disque du pilier 2 au 3\n",
      "Déplacer un disque du pilier 1 au 3\n"
     ]
    }
   ],
   "source": [
    "def Hannoi(n, A, B, C):\n",
    "    if n == 1:\n",
    "        print(f\"Déplacer un disque du pilier {A} au {C}\")\n",
    "    else:\n",
    "        Hannoi(n - 1, A, C, B)  \n",
    "        print(f\"Déplacer un disque du pilier {A} au {C}\") \n",
    "        Hannoi(n - 1, B, A, C)\n",
    "\n",
    "Hannoi(3, 1, 2, 3)\n"
   ]
  },
  {
   "cell_type": "markdown",
   "id": "5804400b",
   "metadata": {},
   "source": [
    "### Exercice - recherche linéaire"
   ]
  },
  {
   "cell_type": "code",
   "execution_count": 88,
   "id": "a6fe4c39",
   "metadata": {},
   "outputs": [
    {
     "name": "stdout",
     "output_type": "stream",
     "text": [
      "valeur non trouvé\n"
     ]
    }
   ],
   "source": [
    "def rechLin(liste,val):\n",
    "    if liste[0]==val:\n",
    "        return f\"valeur trouvé : {liste[0]}\"\n",
    "    elif len(liste)==1:\n",
    "        return \"valeur non trouvé\"\n",
    "    return rechLin(liste[1:],val)\n",
    "print(rechLin([1,2,3,4,5],6))\n",
    "# parcort les élément d'un tableau successivement jusqu'à trouver l'élément recherché"
   ]
  },
  {
   "cell_type": "code",
   "execution_count": 89,
   "id": "fa5a97cc",
   "metadata": {},
   "outputs": [
    {
     "name": "stdout",
     "output_type": "stream",
     "text": [
      "valeur trouvé : 2\n"
     ]
    }
   ],
   "source": [
    "def rechdich(liste,val):\n",
    "    val2=liste[len(liste)//2]\n",
    "    if val2==val:\n",
    "        return f\"valeur trouvé : {liste[len(liste)//2]}\"\n",
    "    elif len(liste)==1:\n",
    "        return f\"valeur non trouvé\"\n",
    "    elif val2<val:\n",
    "        return rechdich(liste[len(liste)//2:],val)\n",
    "    else:\n",
    "        return rechdich(liste[:len(liste)//2],val)\n",
    "print(rechdich([1,2,3,4,5],2))\n",
    "# recherche dans un tableau trié la valeur de recherche en sélectionnant chaque moitié de tableau pouvant\n",
    "# contenir la valeur"
   ]
  }
 ],
 "metadata": {
  "kernelspec": {
   "display_name": "MyEnv",
   "language": "python",
   "name": "python3"
  },
  "language_info": {
   "codemirror_mode": {
    "name": "ipython",
    "version": 3
   },
   "file_extension": ".py",
   "mimetype": "text/x-python",
   "name": "python",
   "nbconvert_exporter": "python",
   "pygments_lexer": "ipython3",
   "version": "3.11.9"
  }
 },
 "nbformat": 4,
 "nbformat_minor": 5
}
